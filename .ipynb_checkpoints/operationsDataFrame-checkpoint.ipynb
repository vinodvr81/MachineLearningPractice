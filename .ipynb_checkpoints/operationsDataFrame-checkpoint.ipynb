{
 "cells": [
  {
   "cell_type": "code",
   "execution_count": 1,
   "metadata": {},
   "outputs": [],
   "source": [
    "import pandas as pd\n",
    "import numpy as np"
   ]
  },
  {
   "cell_type": "code",
   "execution_count": 2,
   "metadata": {},
   "outputs": [],
   "source": [
    "df = pd.DataFrame(data=[['ss','A1','Male',34],['ss','A1','Male',44],['ts','A1','Female',14],['ts','A1','Female',24],\n",
    "                        ['sls','B1','Male',47],['sls','B1','Male',74],['sps','B1','Female',38],['sps','B1','Male',35],\n",
    "                        ['sms','C1','Female',17],['sms','C1','Female',25],['tss','C1','Female',29],['tss','C1','Male',39],\n",
    "                       ],columns=['Team','Player Group','Sex','Age'])"
   ]
  },
  {
   "cell_type": "code",
   "execution_count": 3,
   "metadata": {},
   "outputs": [
    {
     "data": {
      "text/html": [
       "<div>\n",
       "<style scoped>\n",
       "    .dataframe tbody tr th:only-of-type {\n",
       "        vertical-align: middle;\n",
       "    }\n",
       "\n",
       "    .dataframe tbody tr th {\n",
       "        vertical-align: top;\n",
       "    }\n",
       "\n",
       "    .dataframe thead th {\n",
       "        text-align: right;\n",
       "    }\n",
       "</style>\n",
       "<table border=\"1\" class=\"dataframe\">\n",
       "  <thead>\n",
       "    <tr style=\"text-align: right;\">\n",
       "      <th></th>\n",
       "      <th>Team</th>\n",
       "      <th>Player Group</th>\n",
       "      <th>Sex</th>\n",
       "      <th>Age</th>\n",
       "    </tr>\n",
       "  </thead>\n",
       "  <tbody>\n",
       "    <tr>\n",
       "      <th>0</th>\n",
       "      <td>ss</td>\n",
       "      <td>A1</td>\n",
       "      <td>Male</td>\n",
       "      <td>34</td>\n",
       "    </tr>\n",
       "    <tr>\n",
       "      <th>1</th>\n",
       "      <td>ss</td>\n",
       "      <td>A1</td>\n",
       "      <td>Male</td>\n",
       "      <td>44</td>\n",
       "    </tr>\n",
       "    <tr>\n",
       "      <th>2</th>\n",
       "      <td>ts</td>\n",
       "      <td>A1</td>\n",
       "      <td>Female</td>\n",
       "      <td>14</td>\n",
       "    </tr>\n",
       "    <tr>\n",
       "      <th>3</th>\n",
       "      <td>ts</td>\n",
       "      <td>A1</td>\n",
       "      <td>Female</td>\n",
       "      <td>24</td>\n",
       "    </tr>\n",
       "    <tr>\n",
       "      <th>4</th>\n",
       "      <td>sls</td>\n",
       "      <td>B1</td>\n",
       "      <td>Male</td>\n",
       "      <td>47</td>\n",
       "    </tr>\n",
       "    <tr>\n",
       "      <th>5</th>\n",
       "      <td>sls</td>\n",
       "      <td>B1</td>\n",
       "      <td>Male</td>\n",
       "      <td>74</td>\n",
       "    </tr>\n",
       "    <tr>\n",
       "      <th>6</th>\n",
       "      <td>sps</td>\n",
       "      <td>B1</td>\n",
       "      <td>Female</td>\n",
       "      <td>38</td>\n",
       "    </tr>\n",
       "    <tr>\n",
       "      <th>7</th>\n",
       "      <td>sps</td>\n",
       "      <td>B1</td>\n",
       "      <td>Male</td>\n",
       "      <td>35</td>\n",
       "    </tr>\n",
       "    <tr>\n",
       "      <th>8</th>\n",
       "      <td>sms</td>\n",
       "      <td>C1</td>\n",
       "      <td>Female</td>\n",
       "      <td>17</td>\n",
       "    </tr>\n",
       "    <tr>\n",
       "      <th>9</th>\n",
       "      <td>sms</td>\n",
       "      <td>C1</td>\n",
       "      <td>Female</td>\n",
       "      <td>25</td>\n",
       "    </tr>\n",
       "    <tr>\n",
       "      <th>10</th>\n",
       "      <td>tss</td>\n",
       "      <td>C1</td>\n",
       "      <td>Female</td>\n",
       "      <td>29</td>\n",
       "    </tr>\n",
       "    <tr>\n",
       "      <th>11</th>\n",
       "      <td>tss</td>\n",
       "      <td>C1</td>\n",
       "      <td>Male</td>\n",
       "      <td>39</td>\n",
       "    </tr>\n",
       "  </tbody>\n",
       "</table>\n",
       "</div>"
      ],
      "text/plain": [
       "   Team Player Group     Sex  Age\n",
       "0    ss           A1    Male   34\n",
       "1    ss           A1    Male   44\n",
       "2    ts           A1  Female   14\n",
       "3    ts           A1  Female   24\n",
       "4   sls           B1    Male   47\n",
       "5   sls           B1    Male   74\n",
       "6   sps           B1  Female   38\n",
       "7   sps           B1    Male   35\n",
       "8   sms           C1  Female   17\n",
       "9   sms           C1  Female   25\n",
       "10  tss           C1  Female   29\n",
       "11  tss           C1    Male   39"
      ]
     },
     "execution_count": 3,
     "metadata": {},
     "output_type": "execute_result"
    }
   ],
   "source": [
    "df"
   ]
  },
  {
   "cell_type": "code",
   "execution_count": 4,
   "metadata": {},
   "outputs": [
    {
     "data": {
      "text/plain": [
       "Team            12\n",
       "Player Group    12\n",
       "Sex             12\n",
       "Age             12\n",
       "dtype: int64"
      ]
     },
     "execution_count": 4,
     "metadata": {},
     "output_type": "execute_result"
    }
   ],
   "source": [
    "df.count()"
   ]
  },
  {
   "cell_type": "code",
   "execution_count": 8,
   "metadata": {},
   "outputs": [
    {
     "data": {
      "text/plain": [
       "array([['ss', 'A1', 'Male', 34],\n",
       "       ['ss', 'A1', 'Male', 44],\n",
       "       ['ts', 'A1', 'Female', 14],\n",
       "       ['ts', 'A1', 'Female', 24],\n",
       "       ['sls', 'B1', 'Male', 47],\n",
       "       ['sls', 'B1', 'Male', 74],\n",
       "       ['sps', 'B1', 'Female', 38],\n",
       "       ['sps', 'B1', 'Male', 35],\n",
       "       ['sms', 'C1', 'Female', 17],\n",
       "       ['sms', 'C1', 'Female', 25],\n",
       "       ['tss', 'C1', 'Female', 29],\n",
       "       ['tss', 'C1', 'Male', 39]], dtype=object)"
      ]
     },
     "execution_count": 8,
     "metadata": {},
     "output_type": "execute_result"
    }
   ],
   "source": [
    "df.values"
   ]
  },
  {
   "cell_type": "code",
   "execution_count": 9,
   "metadata": {},
   "outputs": [
    {
     "data": {
      "text/plain": [
       "<bound method DataFrame.var of    Team Player Group     Sex  Age\n",
       "0    ss           A1    Male   34\n",
       "1    ss           A1    Male   44\n",
       "2    ts           A1  Female   14\n",
       "3    ts           A1  Female   24\n",
       "4   sls           B1    Male   47\n",
       "5   sls           B1    Male   74\n",
       "6   sps           B1  Female   38\n",
       "7   sps           B1    Male   35\n",
       "8   sms           C1  Female   17\n",
       "9   sms           C1  Female   25\n",
       "10  tss           C1  Female   29\n",
       "11  tss           C1    Male   39>"
      ]
     },
     "execution_count": 9,
     "metadata": {},
     "output_type": "execute_result"
    }
   ],
   "source": [
    "df.var"
   ]
  },
  {
   "cell_type": "code",
   "execution_count": 10,
   "metadata": {},
   "outputs": [
    {
     "data": {
      "text/plain": [
       "0      ss\n",
       "1      ss\n",
       "2      ts\n",
       "3      ts\n",
       "4     sls\n",
       "5     sls\n",
       "6     sps\n",
       "7     sps\n",
       "8     sms\n",
       "9     sms\n",
       "10    tss\n",
       "11    tss\n",
       "Name: Team, dtype: object"
      ]
     },
     "execution_count": 10,
     "metadata": {},
     "output_type": "execute_result"
    }
   ],
   "source": [
    "df.get(\"Team\")"
   ]
  },
  {
   "cell_type": "code",
   "execution_count": 11,
   "metadata": {},
   "outputs": [
    {
     "data": {
      "text/plain": [
       "tss    2\n",
       "sls    2\n",
       "ss     2\n",
       "sms    2\n",
       "sps    2\n",
       "ts     2\n",
       "Name: Team, dtype: int64"
      ]
     },
     "execution_count": 11,
     "metadata": {},
     "output_type": "execute_result"
    }
   ],
   "source": [
    "df.get(\"Team\").value_counts()"
   ]
  },
  {
   "cell_type": "code",
   "execution_count": 13,
   "metadata": {},
   "outputs": [],
   "source": [
    "l1 = dir(df.get(\"Team\"))"
   ]
  },
  {
   "cell_type": "code",
   "execution_count": 17,
   "metadata": {},
   "outputs": [
    {
     "data": {
      "text/plain": [
       "array(['ss', 'ts', 'sls', 'sps', 'sms', 'tss'], dtype=object)"
      ]
     },
     "execution_count": 17,
     "metadata": {},
     "output_type": "execute_result"
    }
   ],
   "source": [
    "df.get(\"Team\").unique()\n",
    "    "
   ]
  },
  {
   "cell_type": "code",
   "execution_count": 18,
   "metadata": {},
   "outputs": [
    {
     "data": {
      "text/plain": [
       "6"
      ]
     },
     "execution_count": 18,
     "metadata": {},
     "output_type": "execute_result"
    }
   ],
   "source": [
    "df.get(\"Team\").nunique()"
   ]
  },
  {
   "cell_type": "code",
   "execution_count": 19,
   "metadata": {},
   "outputs": [
    {
     "data": {
      "text/plain": [
       "Male      6\n",
       "Female    6\n",
       "Name: Sex, dtype: int64"
      ]
     },
     "execution_count": 19,
     "metadata": {},
     "output_type": "execute_result"
    }
   ],
   "source": [
    "df.get(\"Sex\").value_counts()"
   ]
  },
  {
   "cell_type": "code",
   "execution_count": 20,
   "metadata": {},
   "outputs": [],
   "source": [
    "byteam = df.groupby(\"Team\")"
   ]
  },
  {
   "cell_type": "code",
   "execution_count": 22,
   "metadata": {},
   "outputs": [
    {
     "data": {
      "text/html": [
       "<div>\n",
       "<style scoped>\n",
       "    .dataframe tbody tr th:only-of-type {\n",
       "        vertical-align: middle;\n",
       "    }\n",
       "\n",
       "    .dataframe tbody tr th {\n",
       "        vertical-align: top;\n",
       "    }\n",
       "\n",
       "    .dataframe thead th {\n",
       "        text-align: right;\n",
       "    }\n",
       "</style>\n",
       "<table border=\"1\" class=\"dataframe\">\n",
       "  <thead>\n",
       "    <tr style=\"text-align: right;\">\n",
       "      <th></th>\n",
       "      <th>Age</th>\n",
       "    </tr>\n",
       "    <tr>\n",
       "      <th>Team</th>\n",
       "      <th></th>\n",
       "    </tr>\n",
       "  </thead>\n",
       "  <tbody>\n",
       "    <tr>\n",
       "      <th>sls</th>\n",
       "      <td>121</td>\n",
       "    </tr>\n",
       "    <tr>\n",
       "      <th>sms</th>\n",
       "      <td>42</td>\n",
       "    </tr>\n",
       "    <tr>\n",
       "      <th>sps</th>\n",
       "      <td>73</td>\n",
       "    </tr>\n",
       "    <tr>\n",
       "      <th>ss</th>\n",
       "      <td>78</td>\n",
       "    </tr>\n",
       "    <tr>\n",
       "      <th>ts</th>\n",
       "      <td>38</td>\n",
       "    </tr>\n",
       "    <tr>\n",
       "      <th>tss</th>\n",
       "      <td>68</td>\n",
       "    </tr>\n",
       "  </tbody>\n",
       "</table>\n",
       "</div>"
      ],
      "text/plain": [
       "      Age\n",
       "Team     \n",
       "sls   121\n",
       "sms    42\n",
       "sps    73\n",
       "ss     78\n",
       "ts     38\n",
       "tss    68"
      ]
     },
     "execution_count": 22,
     "metadata": {},
     "output_type": "execute_result"
    }
   ],
   "source": [
    "byteam.sum()"
   ]
  },
  {
   "cell_type": "code",
   "execution_count": 37,
   "metadata": {},
   "outputs": [],
   "source": [
    "df[\"Marks\"] = np.linspace(60,93,num=12)"
   ]
  },
  {
   "cell_type": "code",
   "execution_count": 38,
   "metadata": {},
   "outputs": [
    {
     "data": {
      "text/html": [
       "<div>\n",
       "<style scoped>\n",
       "    .dataframe tbody tr th:only-of-type {\n",
       "        vertical-align: middle;\n",
       "    }\n",
       "\n",
       "    .dataframe tbody tr th {\n",
       "        vertical-align: top;\n",
       "    }\n",
       "\n",
       "    .dataframe thead th {\n",
       "        text-align: right;\n",
       "    }\n",
       "</style>\n",
       "<table border=\"1\" class=\"dataframe\">\n",
       "  <thead>\n",
       "    <tr style=\"text-align: right;\">\n",
       "      <th></th>\n",
       "      <th>Team</th>\n",
       "      <th>Player Group</th>\n",
       "      <th>Sex</th>\n",
       "      <th>Age</th>\n",
       "      <th>Marks</th>\n",
       "    </tr>\n",
       "  </thead>\n",
       "  <tbody>\n",
       "    <tr>\n",
       "      <th>0</th>\n",
       "      <td>ss</td>\n",
       "      <td>A1</td>\n",
       "      <td>Male</td>\n",
       "      <td>34</td>\n",
       "      <td>60.0</td>\n",
       "    </tr>\n",
       "    <tr>\n",
       "      <th>1</th>\n",
       "      <td>ss</td>\n",
       "      <td>A1</td>\n",
       "      <td>Male</td>\n",
       "      <td>44</td>\n",
       "      <td>63.0</td>\n",
       "    </tr>\n",
       "    <tr>\n",
       "      <th>2</th>\n",
       "      <td>ts</td>\n",
       "      <td>A1</td>\n",
       "      <td>Female</td>\n",
       "      <td>14</td>\n",
       "      <td>66.0</td>\n",
       "    </tr>\n",
       "    <tr>\n",
       "      <th>3</th>\n",
       "      <td>ts</td>\n",
       "      <td>A1</td>\n",
       "      <td>Female</td>\n",
       "      <td>24</td>\n",
       "      <td>69.0</td>\n",
       "    </tr>\n",
       "    <tr>\n",
       "      <th>4</th>\n",
       "      <td>sls</td>\n",
       "      <td>B1</td>\n",
       "      <td>Male</td>\n",
       "      <td>47</td>\n",
       "      <td>72.0</td>\n",
       "    </tr>\n",
       "    <tr>\n",
       "      <th>5</th>\n",
       "      <td>sls</td>\n",
       "      <td>B1</td>\n",
       "      <td>Male</td>\n",
       "      <td>74</td>\n",
       "      <td>75.0</td>\n",
       "    </tr>\n",
       "    <tr>\n",
       "      <th>6</th>\n",
       "      <td>sps</td>\n",
       "      <td>B1</td>\n",
       "      <td>Female</td>\n",
       "      <td>38</td>\n",
       "      <td>78.0</td>\n",
       "    </tr>\n",
       "    <tr>\n",
       "      <th>7</th>\n",
       "      <td>sps</td>\n",
       "      <td>B1</td>\n",
       "      <td>Male</td>\n",
       "      <td>35</td>\n",
       "      <td>81.0</td>\n",
       "    </tr>\n",
       "    <tr>\n",
       "      <th>8</th>\n",
       "      <td>sms</td>\n",
       "      <td>C1</td>\n",
       "      <td>Female</td>\n",
       "      <td>17</td>\n",
       "      <td>84.0</td>\n",
       "    </tr>\n",
       "    <tr>\n",
       "      <th>9</th>\n",
       "      <td>sms</td>\n",
       "      <td>C1</td>\n",
       "      <td>Female</td>\n",
       "      <td>25</td>\n",
       "      <td>87.0</td>\n",
       "    </tr>\n",
       "    <tr>\n",
       "      <th>10</th>\n",
       "      <td>tss</td>\n",
       "      <td>C1</td>\n",
       "      <td>Female</td>\n",
       "      <td>29</td>\n",
       "      <td>90.0</td>\n",
       "    </tr>\n",
       "    <tr>\n",
       "      <th>11</th>\n",
       "      <td>tss</td>\n",
       "      <td>C1</td>\n",
       "      <td>Male</td>\n",
       "      <td>39</td>\n",
       "      <td>93.0</td>\n",
       "    </tr>\n",
       "  </tbody>\n",
       "</table>\n",
       "</div>"
      ],
      "text/plain": [
       "   Team Player Group     Sex  Age  Marks\n",
       "0    ss           A1    Male   34   60.0\n",
       "1    ss           A1    Male   44   63.0\n",
       "2    ts           A1  Female   14   66.0\n",
       "3    ts           A1  Female   24   69.0\n",
       "4   sls           B1    Male   47   72.0\n",
       "5   sls           B1    Male   74   75.0\n",
       "6   sps           B1  Female   38   78.0\n",
       "7   sps           B1    Male   35   81.0\n",
       "8   sms           C1  Female   17   84.0\n",
       "9   sms           C1  Female   25   87.0\n",
       "10  tss           C1  Female   29   90.0\n",
       "11  tss           C1    Male   39   93.0"
      ]
     },
     "execution_count": 38,
     "metadata": {},
     "output_type": "execute_result"
    }
   ],
   "source": [
    "df"
   ]
  },
  {
   "cell_type": "code",
   "execution_count": 39,
   "metadata": {},
   "outputs": [
    {
     "data": {
      "text/plain": [
       "918.0"
      ]
     },
     "execution_count": 39,
     "metadata": {},
     "output_type": "execute_result"
    }
   ],
   "source": [
    "df.get(\"Marks\").sum()"
   ]
  },
  {
   "cell_type": "code",
   "execution_count": 40,
   "metadata": {},
   "outputs": [
    {
     "data": {
      "text/plain": [
       "76.5"
      ]
     },
     "execution_count": 40,
     "metadata": {},
     "output_type": "execute_result"
    }
   ],
   "source": [
    "df.get(\"Marks\").mean()"
   ]
  },
  {
   "cell_type": "code",
   "execution_count": 41,
   "metadata": {},
   "outputs": [
    {
     "data": {
      "text/plain": [
       "76.5"
      ]
     },
     "execution_count": 41,
     "metadata": {},
     "output_type": "execute_result"
    }
   ],
   "source": [
    "df.get(\"Marks\").median()"
   ]
  },
  {
   "cell_type": "code",
   "execution_count": 42,
   "metadata": {},
   "outputs": [
    {
     "data": {
      "text/plain": [
       "10.816653826391969"
      ]
     },
     "execution_count": 42,
     "metadata": {},
     "output_type": "execute_result"
    }
   ],
   "source": [
    "df.get(\"Marks\").std()"
   ]
  },
  {
   "cell_type": "code",
   "execution_count": 43,
   "metadata": {},
   "outputs": [
    {
     "data": {
      "text/html": [
       "<div>\n",
       "<style scoped>\n",
       "    .dataframe tbody tr th:only-of-type {\n",
       "        vertical-align: middle;\n",
       "    }\n",
       "\n",
       "    .dataframe tbody tr th {\n",
       "        vertical-align: top;\n",
       "    }\n",
       "\n",
       "    .dataframe thead th {\n",
       "        text-align: right;\n",
       "    }\n",
       "</style>\n",
       "<table border=\"1\" class=\"dataframe\">\n",
       "  <thead>\n",
       "    <tr style=\"text-align: right;\">\n",
       "      <th></th>\n",
       "      <th>Age</th>\n",
       "      <th>Marks</th>\n",
       "    </tr>\n",
       "    <tr>\n",
       "      <th>Sex</th>\n",
       "      <th></th>\n",
       "      <th></th>\n",
       "    </tr>\n",
       "  </thead>\n",
       "  <tbody>\n",
       "    <tr>\n",
       "      <th>Female</th>\n",
       "      <td>147</td>\n",
       "      <td>474.0</td>\n",
       "    </tr>\n",
       "    <tr>\n",
       "      <th>Male</th>\n",
       "      <td>273</td>\n",
       "      <td>444.0</td>\n",
       "    </tr>\n",
       "  </tbody>\n",
       "</table>\n",
       "</div>"
      ],
      "text/plain": [
       "        Age  Marks\n",
       "Sex               \n",
       "Female  147  474.0\n",
       "Male    273  444.0"
      ]
     },
     "execution_count": 43,
     "metadata": {},
     "output_type": "execute_result"
    }
   ],
   "source": [
    "df.groupby(\"Sex\").sum()"
   ]
  },
  {
   "cell_type": "code",
   "execution_count": 44,
   "metadata": {},
   "outputs": [
    {
     "data": {
      "text/html": [
       "<div>\n",
       "<style scoped>\n",
       "    .dataframe tbody tr th:only-of-type {\n",
       "        vertical-align: middle;\n",
       "    }\n",
       "\n",
       "    .dataframe tbody tr th {\n",
       "        vertical-align: top;\n",
       "    }\n",
       "\n",
       "    .dataframe thead th {\n",
       "        text-align: right;\n",
       "    }\n",
       "</style>\n",
       "<table border=\"1\" class=\"dataframe\">\n",
       "  <thead>\n",
       "    <tr style=\"text-align: right;\">\n",
       "      <th></th>\n",
       "      <th>Age</th>\n",
       "      <th>Marks</th>\n",
       "    </tr>\n",
       "    <tr>\n",
       "      <th>Sex</th>\n",
       "      <th></th>\n",
       "      <th></th>\n",
       "    </tr>\n",
       "  </thead>\n",
       "  <tbody>\n",
       "    <tr>\n",
       "      <th>Female</th>\n",
       "      <td>24.5</td>\n",
       "      <td>79.0</td>\n",
       "    </tr>\n",
       "    <tr>\n",
       "      <th>Male</th>\n",
       "      <td>45.5</td>\n",
       "      <td>74.0</td>\n",
       "    </tr>\n",
       "  </tbody>\n",
       "</table>\n",
       "</div>"
      ],
      "text/plain": [
       "         Age  Marks\n",
       "Sex                \n",
       "Female  24.5   79.0\n",
       "Male    45.5   74.0"
      ]
     },
     "execution_count": 44,
     "metadata": {},
     "output_type": "execute_result"
    }
   ],
   "source": [
    "df.groupby(\"Sex\").mean()"
   ]
  },
  {
   "cell_type": "code",
   "execution_count": 45,
   "metadata": {},
   "outputs": [
    {
     "data": {
      "text/html": [
       "<div>\n",
       "<style scoped>\n",
       "    .dataframe tbody tr th:only-of-type {\n",
       "        vertical-align: middle;\n",
       "    }\n",
       "\n",
       "    .dataframe tbody tr th {\n",
       "        vertical-align: top;\n",
       "    }\n",
       "\n",
       "    .dataframe thead th {\n",
       "        text-align: right;\n",
       "    }\n",
       "</style>\n",
       "<table border=\"1\" class=\"dataframe\">\n",
       "  <thead>\n",
       "    <tr style=\"text-align: right;\">\n",
       "      <th></th>\n",
       "      <th>Age</th>\n",
       "      <th>Marks</th>\n",
       "    </tr>\n",
       "    <tr>\n",
       "      <th>Sex</th>\n",
       "      <th></th>\n",
       "      <th></th>\n",
       "    </tr>\n",
       "  </thead>\n",
       "  <tbody>\n",
       "    <tr>\n",
       "      <th>Female</th>\n",
       "      <td>24.5</td>\n",
       "      <td>81.0</td>\n",
       "    </tr>\n",
       "    <tr>\n",
       "      <th>Male</th>\n",
       "      <td>41.5</td>\n",
       "      <td>73.5</td>\n",
       "    </tr>\n",
       "  </tbody>\n",
       "</table>\n",
       "</div>"
      ],
      "text/plain": [
       "         Age  Marks\n",
       "Sex                \n",
       "Female  24.5   81.0\n",
       "Male    41.5   73.5"
      ]
     },
     "execution_count": 45,
     "metadata": {},
     "output_type": "execute_result"
    }
   ],
   "source": [
    "df.groupby(\"Sex\").median()"
   ]
  },
  {
   "cell_type": "code",
   "execution_count": 46,
   "metadata": {},
   "outputs": [
    {
     "data": {
      "text/html": [
       "<div>\n",
       "<style scoped>\n",
       "    .dataframe tbody tr th:only-of-type {\n",
       "        vertical-align: middle;\n",
       "    }\n",
       "\n",
       "    .dataframe tbody tr th {\n",
       "        vertical-align: top;\n",
       "    }\n",
       "\n",
       "    .dataframe thead th {\n",
       "        text-align: right;\n",
       "    }\n",
       "</style>\n",
       "<table border=\"1\" class=\"dataframe\">\n",
       "  <thead>\n",
       "    <tr style=\"text-align: right;\">\n",
       "      <th></th>\n",
       "      <th>Age</th>\n",
       "      <th>Marks</th>\n",
       "    </tr>\n",
       "    <tr>\n",
       "      <th>Sex</th>\n",
       "      <th></th>\n",
       "      <th></th>\n",
       "    </tr>\n",
       "  </thead>\n",
       "  <tbody>\n",
       "    <tr>\n",
       "      <th>Female</th>\n",
       "      <td>8.596511</td>\n",
       "      <td>9.797959</td>\n",
       "    </tr>\n",
       "    <tr>\n",
       "      <th>Male</th>\n",
       "      <td>14.842507</td>\n",
       "      <td>12.099587</td>\n",
       "    </tr>\n",
       "  </tbody>\n",
       "</table>\n",
       "</div>"
      ],
      "text/plain": [
       "              Age      Marks\n",
       "Sex                         \n",
       "Female   8.596511   9.797959\n",
       "Male    14.842507  12.099587"
      ]
     },
     "execution_count": 46,
     "metadata": {},
     "output_type": "execute_result"
    }
   ],
   "source": [
    "df.groupby(\"Sex\").std()"
   ]
  },
  {
   "cell_type": "code",
   "execution_count": 47,
   "metadata": {},
   "outputs": [
    {
     "data": {
      "text/html": [
       "<div>\n",
       "<style scoped>\n",
       "    .dataframe tbody tr th:only-of-type {\n",
       "        vertical-align: middle;\n",
       "    }\n",
       "\n",
       "    .dataframe tbody tr th {\n",
       "        vertical-align: top;\n",
       "    }\n",
       "\n",
       "    .dataframe thead tr th {\n",
       "        text-align: left;\n",
       "    }\n",
       "\n",
       "    .dataframe thead tr:last-of-type th {\n",
       "        text-align: right;\n",
       "    }\n",
       "</style>\n",
       "<table border=\"1\" class=\"dataframe\">\n",
       "  <thead>\n",
       "    <tr>\n",
       "      <th></th>\n",
       "      <th colspan=\"8\" halign=\"left\">Age</th>\n",
       "      <th colspan=\"8\" halign=\"left\">Marks</th>\n",
       "    </tr>\n",
       "    <tr>\n",
       "      <th></th>\n",
       "      <th>count</th>\n",
       "      <th>mean</th>\n",
       "      <th>std</th>\n",
       "      <th>min</th>\n",
       "      <th>25%</th>\n",
       "      <th>50%</th>\n",
       "      <th>75%</th>\n",
       "      <th>max</th>\n",
       "      <th>count</th>\n",
       "      <th>mean</th>\n",
       "      <th>std</th>\n",
       "      <th>min</th>\n",
       "      <th>25%</th>\n",
       "      <th>50%</th>\n",
       "      <th>75%</th>\n",
       "      <th>max</th>\n",
       "    </tr>\n",
       "    <tr>\n",
       "      <th>Team</th>\n",
       "      <th></th>\n",
       "      <th></th>\n",
       "      <th></th>\n",
       "      <th></th>\n",
       "      <th></th>\n",
       "      <th></th>\n",
       "      <th></th>\n",
       "      <th></th>\n",
       "      <th></th>\n",
       "      <th></th>\n",
       "      <th></th>\n",
       "      <th></th>\n",
       "      <th></th>\n",
       "      <th></th>\n",
       "      <th></th>\n",
       "      <th></th>\n",
       "    </tr>\n",
       "  </thead>\n",
       "  <tbody>\n",
       "    <tr>\n",
       "      <th>sls</th>\n",
       "      <td>2.0</td>\n",
       "      <td>60.5</td>\n",
       "      <td>19.091883</td>\n",
       "      <td>47.0</td>\n",
       "      <td>53.75</td>\n",
       "      <td>60.5</td>\n",
       "      <td>67.25</td>\n",
       "      <td>74.0</td>\n",
       "      <td>2.0</td>\n",
       "      <td>73.5</td>\n",
       "      <td>2.12132</td>\n",
       "      <td>72.0</td>\n",
       "      <td>72.75</td>\n",
       "      <td>73.5</td>\n",
       "      <td>74.25</td>\n",
       "      <td>75.0</td>\n",
       "    </tr>\n",
       "    <tr>\n",
       "      <th>sms</th>\n",
       "      <td>2.0</td>\n",
       "      <td>21.0</td>\n",
       "      <td>5.656854</td>\n",
       "      <td>17.0</td>\n",
       "      <td>19.00</td>\n",
       "      <td>21.0</td>\n",
       "      <td>23.00</td>\n",
       "      <td>25.0</td>\n",
       "      <td>2.0</td>\n",
       "      <td>85.5</td>\n",
       "      <td>2.12132</td>\n",
       "      <td>84.0</td>\n",
       "      <td>84.75</td>\n",
       "      <td>85.5</td>\n",
       "      <td>86.25</td>\n",
       "      <td>87.0</td>\n",
       "    </tr>\n",
       "    <tr>\n",
       "      <th>sps</th>\n",
       "      <td>2.0</td>\n",
       "      <td>36.5</td>\n",
       "      <td>2.121320</td>\n",
       "      <td>35.0</td>\n",
       "      <td>35.75</td>\n",
       "      <td>36.5</td>\n",
       "      <td>37.25</td>\n",
       "      <td>38.0</td>\n",
       "      <td>2.0</td>\n",
       "      <td>79.5</td>\n",
       "      <td>2.12132</td>\n",
       "      <td>78.0</td>\n",
       "      <td>78.75</td>\n",
       "      <td>79.5</td>\n",
       "      <td>80.25</td>\n",
       "      <td>81.0</td>\n",
       "    </tr>\n",
       "    <tr>\n",
       "      <th>ss</th>\n",
       "      <td>2.0</td>\n",
       "      <td>39.0</td>\n",
       "      <td>7.071068</td>\n",
       "      <td>34.0</td>\n",
       "      <td>36.50</td>\n",
       "      <td>39.0</td>\n",
       "      <td>41.50</td>\n",
       "      <td>44.0</td>\n",
       "      <td>2.0</td>\n",
       "      <td>61.5</td>\n",
       "      <td>2.12132</td>\n",
       "      <td>60.0</td>\n",
       "      <td>60.75</td>\n",
       "      <td>61.5</td>\n",
       "      <td>62.25</td>\n",
       "      <td>63.0</td>\n",
       "    </tr>\n",
       "    <tr>\n",
       "      <th>ts</th>\n",
       "      <td>2.0</td>\n",
       "      <td>19.0</td>\n",
       "      <td>7.071068</td>\n",
       "      <td>14.0</td>\n",
       "      <td>16.50</td>\n",
       "      <td>19.0</td>\n",
       "      <td>21.50</td>\n",
       "      <td>24.0</td>\n",
       "      <td>2.0</td>\n",
       "      <td>67.5</td>\n",
       "      <td>2.12132</td>\n",
       "      <td>66.0</td>\n",
       "      <td>66.75</td>\n",
       "      <td>67.5</td>\n",
       "      <td>68.25</td>\n",
       "      <td>69.0</td>\n",
       "    </tr>\n",
       "    <tr>\n",
       "      <th>tss</th>\n",
       "      <td>2.0</td>\n",
       "      <td>34.0</td>\n",
       "      <td>7.071068</td>\n",
       "      <td>29.0</td>\n",
       "      <td>31.50</td>\n",
       "      <td>34.0</td>\n",
       "      <td>36.50</td>\n",
       "      <td>39.0</td>\n",
       "      <td>2.0</td>\n",
       "      <td>91.5</td>\n",
       "      <td>2.12132</td>\n",
       "      <td>90.0</td>\n",
       "      <td>90.75</td>\n",
       "      <td>91.5</td>\n",
       "      <td>92.25</td>\n",
       "      <td>93.0</td>\n",
       "    </tr>\n",
       "  </tbody>\n",
       "</table>\n",
       "</div>"
      ],
      "text/plain": [
       "       Age                                                  Marks        \\\n",
       "     count  mean        std   min    25%   50%    75%   max count  mean   \n",
       "Team                                                                      \n",
       "sls    2.0  60.5  19.091883  47.0  53.75  60.5  67.25  74.0   2.0  73.5   \n",
       "sms    2.0  21.0   5.656854  17.0  19.00  21.0  23.00  25.0   2.0  85.5   \n",
       "sps    2.0  36.5   2.121320  35.0  35.75  36.5  37.25  38.0   2.0  79.5   \n",
       "ss     2.0  39.0   7.071068  34.0  36.50  39.0  41.50  44.0   2.0  61.5   \n",
       "ts     2.0  19.0   7.071068  14.0  16.50  19.0  21.50  24.0   2.0  67.5   \n",
       "tss    2.0  34.0   7.071068  29.0  31.50  34.0  36.50  39.0   2.0  91.5   \n",
       "\n",
       "                                               \n",
       "          std   min    25%   50%    75%   max  \n",
       "Team                                           \n",
       "sls   2.12132  72.0  72.75  73.5  74.25  75.0  \n",
       "sms   2.12132  84.0  84.75  85.5  86.25  87.0  \n",
       "sps   2.12132  78.0  78.75  79.5  80.25  81.0  \n",
       "ss    2.12132  60.0  60.75  61.5  62.25  63.0  \n",
       "ts    2.12132  66.0  66.75  67.5  68.25  69.0  \n",
       "tss   2.12132  90.0  90.75  91.5  92.25  93.0  "
      ]
     },
     "execution_count": 47,
     "metadata": {},
     "output_type": "execute_result"
    }
   ],
   "source": [
    "df.groupby(\"Team\").describe()"
   ]
  },
  {
   "cell_type": "code",
   "execution_count": 48,
   "metadata": {},
   "outputs": [
    {
     "data": {
      "text/html": [
       "<div>\n",
       "<style scoped>\n",
       "    .dataframe tbody tr th:only-of-type {\n",
       "        vertical-align: middle;\n",
       "    }\n",
       "\n",
       "    .dataframe tbody tr th {\n",
       "        vertical-align: top;\n",
       "    }\n",
       "\n",
       "    .dataframe thead tr th {\n",
       "        text-align: left;\n",
       "    }\n",
       "\n",
       "    .dataframe thead tr:last-of-type th {\n",
       "        text-align: right;\n",
       "    }\n",
       "</style>\n",
       "<table border=\"1\" class=\"dataframe\">\n",
       "  <thead>\n",
       "    <tr>\n",
       "      <th></th>\n",
       "      <th colspan=\"8\" halign=\"left\">Age</th>\n",
       "      <th colspan=\"8\" halign=\"left\">Marks</th>\n",
       "    </tr>\n",
       "    <tr>\n",
       "      <th></th>\n",
       "      <th>count</th>\n",
       "      <th>mean</th>\n",
       "      <th>std</th>\n",
       "      <th>min</th>\n",
       "      <th>25%</th>\n",
       "      <th>50%</th>\n",
       "      <th>75%</th>\n",
       "      <th>max</th>\n",
       "      <th>count</th>\n",
       "      <th>mean</th>\n",
       "      <th>std</th>\n",
       "      <th>min</th>\n",
       "      <th>25%</th>\n",
       "      <th>50%</th>\n",
       "      <th>75%</th>\n",
       "      <th>max</th>\n",
       "    </tr>\n",
       "    <tr>\n",
       "      <th>Sex</th>\n",
       "      <th></th>\n",
       "      <th></th>\n",
       "      <th></th>\n",
       "      <th></th>\n",
       "      <th></th>\n",
       "      <th></th>\n",
       "      <th></th>\n",
       "      <th></th>\n",
       "      <th></th>\n",
       "      <th></th>\n",
       "      <th></th>\n",
       "      <th></th>\n",
       "      <th></th>\n",
       "      <th></th>\n",
       "      <th></th>\n",
       "      <th></th>\n",
       "    </tr>\n",
       "  </thead>\n",
       "  <tbody>\n",
       "    <tr>\n",
       "      <th>Female</th>\n",
       "      <td>6.0</td>\n",
       "      <td>24.5</td>\n",
       "      <td>8.596511</td>\n",
       "      <td>14.0</td>\n",
       "      <td>18.75</td>\n",
       "      <td>24.5</td>\n",
       "      <td>28.00</td>\n",
       "      <td>38.0</td>\n",
       "      <td>6.0</td>\n",
       "      <td>79.0</td>\n",
       "      <td>9.797959</td>\n",
       "      <td>66.0</td>\n",
       "      <td>71.25</td>\n",
       "      <td>81.0</td>\n",
       "      <td>86.25</td>\n",
       "      <td>90.0</td>\n",
       "    </tr>\n",
       "    <tr>\n",
       "      <th>Male</th>\n",
       "      <td>6.0</td>\n",
       "      <td>45.5</td>\n",
       "      <td>14.842507</td>\n",
       "      <td>34.0</td>\n",
       "      <td>36.00</td>\n",
       "      <td>41.5</td>\n",
       "      <td>46.25</td>\n",
       "      <td>74.0</td>\n",
       "      <td>6.0</td>\n",
       "      <td>74.0</td>\n",
       "      <td>12.099587</td>\n",
       "      <td>60.0</td>\n",
       "      <td>65.25</td>\n",
       "      <td>73.5</td>\n",
       "      <td>79.50</td>\n",
       "      <td>93.0</td>\n",
       "    </tr>\n",
       "  </tbody>\n",
       "</table>\n",
       "</div>"
      ],
      "text/plain": [
       "         Age                                                  Marks        \\\n",
       "       count  mean        std   min    25%   50%    75%   max count  mean   \n",
       "Sex                                                                         \n",
       "Female   6.0  24.5   8.596511  14.0  18.75  24.5  28.00  38.0   6.0  79.0   \n",
       "Male     6.0  45.5  14.842507  34.0  36.00  41.5  46.25  74.0   6.0  74.0   \n",
       "\n",
       "                                                   \n",
       "              std   min    25%   50%    75%   max  \n",
       "Sex                                                \n",
       "Female   9.797959  66.0  71.25  81.0  86.25  90.0  \n",
       "Male    12.099587  60.0  65.25  73.5  79.50  93.0  "
      ]
     },
     "execution_count": 48,
     "metadata": {},
     "output_type": "execute_result"
    }
   ],
   "source": [
    "df.groupby(\"Sex\").describe()"
   ]
  },
  {
   "cell_type": "code",
   "execution_count": 50,
   "metadata": {},
   "outputs": [
    {
     "data": {
      "text/plain": [
       "tss    2\n",
       "sls    2\n",
       "ss     2\n",
       "sms    2\n",
       "sps    2\n",
       "ts     2\n",
       "Name: Team, dtype: int64"
      ]
     },
     "execution_count": 50,
     "metadata": {},
     "output_type": "execute_result"
    }
   ],
   "source": [
    "df.get(\"Team\").value_counts()"
   ]
  },
  {
   "cell_type": "code",
   "execution_count": 51,
   "metadata": {},
   "outputs": [],
   "source": [
    "def well_done(x):\n",
    "    if x>80.:\n",
    "        return \"Congrats Team Member\"\n",
    "    else:\n",
    "        return \"Keep it up Tema Member\""
   ]
  },
  {
   "cell_type": "code",
   "execution_count": 57,
   "metadata": {},
   "outputs": [],
   "source": [
    "def age_class(x):\n",
    "    x = int(x)\n",
    "    if x>20 and x<40:\n",
    "        return \"Adult\"\n",
    "    elif x>=40 and x<55:\n",
    "        return \"Middle Age\"\n",
    "    elif x>=55:\n",
    "        return \"Old Age\"\n",
    "    else:\n",
    "        return \"Teen\""
   ]
  },
  {
   "cell_type": "code",
   "execution_count": 58,
   "metadata": {},
   "outputs": [],
   "source": [
    "df[\"Message delivered\"] = df[\"Marks\"].apply(well_done)"
   ]
  },
  {
   "cell_type": "code",
   "execution_count": 60,
   "metadata": {},
   "outputs": [],
   "source": [
    "df[\"Age review\"] = df.get(\"Age\").apply(age_class)"
   ]
  },
  {
   "cell_type": "code",
   "execution_count": 61,
   "metadata": {},
   "outputs": [
    {
     "data": {
      "text/html": [
       "<div>\n",
       "<style scoped>\n",
       "    .dataframe tbody tr th:only-of-type {\n",
       "        vertical-align: middle;\n",
       "    }\n",
       "\n",
       "    .dataframe tbody tr th {\n",
       "        vertical-align: top;\n",
       "    }\n",
       "\n",
       "    .dataframe thead th {\n",
       "        text-align: right;\n",
       "    }\n",
       "</style>\n",
       "<table border=\"1\" class=\"dataframe\">\n",
       "  <thead>\n",
       "    <tr style=\"text-align: right;\">\n",
       "      <th></th>\n",
       "      <th>Team</th>\n",
       "      <th>Player Group</th>\n",
       "      <th>Sex</th>\n",
       "      <th>Age</th>\n",
       "      <th>Marks</th>\n",
       "      <th>Message delivered</th>\n",
       "      <th>Age review</th>\n",
       "    </tr>\n",
       "  </thead>\n",
       "  <tbody>\n",
       "    <tr>\n",
       "      <th>0</th>\n",
       "      <td>ss</td>\n",
       "      <td>A1</td>\n",
       "      <td>Male</td>\n",
       "      <td>34</td>\n",
       "      <td>60.0</td>\n",
       "      <td>Keep it up Tema Member</td>\n",
       "      <td>Adult</td>\n",
       "    </tr>\n",
       "    <tr>\n",
       "      <th>1</th>\n",
       "      <td>ss</td>\n",
       "      <td>A1</td>\n",
       "      <td>Male</td>\n",
       "      <td>44</td>\n",
       "      <td>63.0</td>\n",
       "      <td>Keep it up Tema Member</td>\n",
       "      <td>Middle Age</td>\n",
       "    </tr>\n",
       "    <tr>\n",
       "      <th>2</th>\n",
       "      <td>ts</td>\n",
       "      <td>A1</td>\n",
       "      <td>Female</td>\n",
       "      <td>14</td>\n",
       "      <td>66.0</td>\n",
       "      <td>Keep it up Tema Member</td>\n",
       "      <td>Teen</td>\n",
       "    </tr>\n",
       "    <tr>\n",
       "      <th>3</th>\n",
       "      <td>ts</td>\n",
       "      <td>A1</td>\n",
       "      <td>Female</td>\n",
       "      <td>24</td>\n",
       "      <td>69.0</td>\n",
       "      <td>Keep it up Tema Member</td>\n",
       "      <td>Adult</td>\n",
       "    </tr>\n",
       "    <tr>\n",
       "      <th>4</th>\n",
       "      <td>sls</td>\n",
       "      <td>B1</td>\n",
       "      <td>Male</td>\n",
       "      <td>47</td>\n",
       "      <td>72.0</td>\n",
       "      <td>Keep it up Tema Member</td>\n",
       "      <td>Middle Age</td>\n",
       "    </tr>\n",
       "    <tr>\n",
       "      <th>5</th>\n",
       "      <td>sls</td>\n",
       "      <td>B1</td>\n",
       "      <td>Male</td>\n",
       "      <td>74</td>\n",
       "      <td>75.0</td>\n",
       "      <td>Keep it up Tema Member</td>\n",
       "      <td>Old Age</td>\n",
       "    </tr>\n",
       "    <tr>\n",
       "      <th>6</th>\n",
       "      <td>sps</td>\n",
       "      <td>B1</td>\n",
       "      <td>Female</td>\n",
       "      <td>38</td>\n",
       "      <td>78.0</td>\n",
       "      <td>Keep it up Tema Member</td>\n",
       "      <td>Adult</td>\n",
       "    </tr>\n",
       "    <tr>\n",
       "      <th>7</th>\n",
       "      <td>sps</td>\n",
       "      <td>B1</td>\n",
       "      <td>Male</td>\n",
       "      <td>35</td>\n",
       "      <td>81.0</td>\n",
       "      <td>Congrats Team Member</td>\n",
       "      <td>Adult</td>\n",
       "    </tr>\n",
       "    <tr>\n",
       "      <th>8</th>\n",
       "      <td>sms</td>\n",
       "      <td>C1</td>\n",
       "      <td>Female</td>\n",
       "      <td>17</td>\n",
       "      <td>84.0</td>\n",
       "      <td>Congrats Team Member</td>\n",
       "      <td>Teen</td>\n",
       "    </tr>\n",
       "    <tr>\n",
       "      <th>9</th>\n",
       "      <td>sms</td>\n",
       "      <td>C1</td>\n",
       "      <td>Female</td>\n",
       "      <td>25</td>\n",
       "      <td>87.0</td>\n",
       "      <td>Congrats Team Member</td>\n",
       "      <td>Adult</td>\n",
       "    </tr>\n",
       "    <tr>\n",
       "      <th>10</th>\n",
       "      <td>tss</td>\n",
       "      <td>C1</td>\n",
       "      <td>Female</td>\n",
       "      <td>29</td>\n",
       "      <td>90.0</td>\n",
       "      <td>Congrats Team Member</td>\n",
       "      <td>Adult</td>\n",
       "    </tr>\n",
       "    <tr>\n",
       "      <th>11</th>\n",
       "      <td>tss</td>\n",
       "      <td>C1</td>\n",
       "      <td>Male</td>\n",
       "      <td>39</td>\n",
       "      <td>93.0</td>\n",
       "      <td>Congrats Team Member</td>\n",
       "      <td>Adult</td>\n",
       "    </tr>\n",
       "  </tbody>\n",
       "</table>\n",
       "</div>"
      ],
      "text/plain": [
       "   Team Player Group     Sex  Age  Marks       Message delivered  Age review\n",
       "0    ss           A1    Male   34   60.0  Keep it up Tema Member       Adult\n",
       "1    ss           A1    Male   44   63.0  Keep it up Tema Member  Middle Age\n",
       "2    ts           A1  Female   14   66.0  Keep it up Tema Member        Teen\n",
       "3    ts           A1  Female   24   69.0  Keep it up Tema Member       Adult\n",
       "4   sls           B1    Male   47   72.0  Keep it up Tema Member  Middle Age\n",
       "5   sls           B1    Male   74   75.0  Keep it up Tema Member     Old Age\n",
       "6   sps           B1  Female   38   78.0  Keep it up Tema Member       Adult\n",
       "7   sps           B1    Male   35   81.0    Congrats Team Member       Adult\n",
       "8   sms           C1  Female   17   84.0    Congrats Team Member        Teen\n",
       "9   sms           C1  Female   25   87.0    Congrats Team Member       Adult\n",
       "10  tss           C1  Female   29   90.0    Congrats Team Member       Adult\n",
       "11  tss           C1    Male   39   93.0    Congrats Team Member       Adult"
      ]
     },
     "execution_count": 61,
     "metadata": {},
     "output_type": "execute_result"
    }
   ],
   "source": [
    "df"
   ]
  },
  {
   "cell_type": "code",
   "execution_count": null,
   "metadata": {},
   "outputs": [],
   "source": []
  }
 ],
 "metadata": {
  "kernelspec": {
   "display_name": "Python 3",
   "language": "python",
   "name": "python3"
  },
  "language_info": {
   "codemirror_mode": {
    "name": "ipython",
    "version": 3
   },
   "file_extension": ".py",
   "mimetype": "text/x-python",
   "name": "python",
   "nbconvert_exporter": "python",
   "pygments_lexer": "ipython3",
   "version": "3.6.5"
  }
 },
 "nbformat": 4,
 "nbformat_minor": 2
}
